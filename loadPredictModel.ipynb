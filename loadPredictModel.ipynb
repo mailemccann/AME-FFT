{
  "cells": [
    {
      "cell_type": "code",
      "execution_count": null,
      "metadata": {
        "id": "y_fwNI0qECuy"
      },
      "outputs": [],
      "source": [
        "import pandas as pd\n",
        "import tensorflow as tf\n",
        "from tensorflow import keras\n",
        "from tensorflow.keras import layers\n",
        "import numpy as np\n",
        "import pyproj\n",
        "\n",
        "geodesic = pyproj.Geod(ellps='WGS84')"
      ]
    },
    {
      "cell_type": "markdown",
      "metadata": {
        "id": "4Tsp2z8yG_MD"
      },
      "source": [
        "# Load drifter"
      ]
    },
    {
      "cell_type": "code",
      "execution_count": null,
      "metadata": {
        "id": "U7uee6CItdXo"
      },
      "outputs": [],
      "source": [
        "fn='/content/drive/Shareddrives/Coastal/FFT challenge/data/data_up_to_21_Nov.csv'\n",
        "path='/content/drive/Shareddrives/Coastal/FFT challenge/data/'\n",
        "d = pd.read_csv(fn)\n",
        "idr = d['spotId']\n",
        "k =50# number of drifter\n",
        "fout=open(\"/content/drive/Shareddrives/Coastal/FFT challenge/drifter_{}.txt\".format(idr.unique()[k]),'w')\n",
        "fout.write(\"uw vw sh dpx dpy pp u v f dx dy\\n\")\n",
        "df=d.loc[lambda d: d.spotId==idr.unique()[k],:]\n",
        "current = np.loadtxt(path + \"ocean_current_{}.txt\".format(idr.unique()[k]),skiprows=1)\n",
        "wind = np.loadtxt(path + \"air_wave_{}.txt\".format(idr.unique()[k]),skiprows=1)\n",
        "data=[]\n",
        "sgx=1\n",
        "sgy=1\n",
        "for Nd in range(len(df)-1):\n",
        "  dt = df['epoch [s]'].iloc[Nd+1]-df['epoch [s]'].iloc[Nd]\n",
        "  x1 = df.longitude.iloc[Nd]\n",
        "  x2 = df.longitude.iloc[Nd+1]\n",
        "  if (x2-x1)<0:\n",
        "    sgx=-1\n",
        "  y1 = df.latitude.iloc[Nd]\n",
        "  y2 = df.latitude.iloc[Nd+1]\n",
        "  if (y2-y1)<0:\n",
        "    sgy=-1\n",
        "  pdx = geodesic.inv(x1, y1, x2, y1) #calculate dx using geodesic\n",
        "  dx = pdx[2]*sgx\n",
        "  pdy = geodesic.inv(x1, y1, x1, y2) #calculate dy using geodesic\n",
        "  dy = pdy[2]*sgy\n",
        "  uw = (wind[Nd,1] + wind[Nd+1,1])/2 # u-comp. wind\n",
        "  vw = (wind[Nd,2] + wind[Nd+1,2])/2 # v-comp. wind\n",
        "  sh = (wind[Nd,3] + wind[Nd+1,3])/2 # sign. height\n",
        "  dp = (wind[Nd,4] + wind[Nd+1,4])/2 # primary direction\n",
        "  pp = (wind[Nd,5] + wind[Nd+1,5])/2 # primary period\n",
        "  dpx = 1*np.cos(dp) #x-component of wave primary direction\n",
        "  dpy = 1*np.sin(dp) #y-component of wave primary direction\n",
        "  u = (current[Nd,1] + current[Nd+1,1])/2 # u-comp. wind\n",
        "  v = (current[Nd,2] + current[Nd+1,2])/2 # v-comp. wind\n",
        "  f =np.sin((y2-y1)/2)  # Coriolis mimic\n",
        "  if dt==3600:\n",
        "    fout.write(\"%3.3f %3.3f %3.3f %3.3f %3.3f %3.3f %3.3f %3.3f %3.3f %3.3f %3.3f\\n\"%(uw,vw,sh,dpx,dpy,pp,u,v,f,dx,dy))\n",
        "fout.close()"
      ]
    },
    {
      "cell_type": "markdown",
      "metadata": {
        "id": "uZwTNK_uEReN"
      },
      "source": [
        "# Delta prediction"
      ]
    },
    {
      "cell_type": "code",
      "execution_count": null,
      "metadata": {
        "colab": {
          "base_uri": "https://localhost:8080/",
          "height": 337
        },
        "id": "E6PmUdo2EQkk",
        "outputId": "91675508-70ae-41a5-ac85-f0533d238d9c"
      },
      "outputs": [
        {
          "name": "stdout",
          "output_type": "stream",
          "text": [
            "WARNING:tensorflow:SavedModel saved prior to TF 2.5 detected when loading Keras model. Please ensure that you are saving the model with model.save() or tf.keras.models.save_model(), *NOT* tf.saved_model.save(). To confirm, there should be a file named \"keras_metadata.pb\" in the SavedModel directory.\n",
            "Testing set Mean Abs Error: 155.46 m\n"
          ]
        },
        {
          "data": {
            "text/plain": [
              "<matplotlib.legend.Legend at 0x7f5168da0910>"
            ]
          },
          "execution_count": 6,
          "metadata": {},
          "output_type": "execute_result"
        },
        {
          "data": {
            "image/png": "[encoded data removed]",
            "text/plain": [
              "<Figure size 432x288 with 1 Axes>"
            ]
          },
          "metadata": {
            "needs_background": "light"
          },
          "output_type": "display_data"
        }
      ],
      "source": [
        "#Load data and model\n",
        "#data\n",
        "path='/content/drive/Shareddrives/Coastal/FFT challenge/'\n",
        "Dataset = pd.read_csv(path+'data_delta.txt',delimiter=' ')\n",
        "Dataset = Dataset.dropna() #Drop values with NAN values\n",
        "# #Separating data Train and Test, features and labels\n",
        "train_dataset = Dataset.sample(frac=0.8,random_state=1)\n",
        "test_dataset = Dataset.drop(train_dataset.index)\n",
        "lbl = ['dx','dy']\n",
        "train_labels = pd.DataFrame([train_dataset.pop(x) for x in lbl]).T\n",
        "test_labels  = pd.DataFrame([test_dataset.pop(x) for x in lbl]).T\n",
        "#Normalization\n",
        "train_stats = train_dataset.describe()\n",
        "train_stats = train_stats.transpose()\n",
        "def norm(x):\n",
        "    return(x-train_stats['mean'])/train_stats['std']\n",
        "normed_train_data = norm(train_dataset)\n",
        "normed_test_data = norm(test_dataset)\n",
        "\n",
        "fn=\"drifter_{}.txt\".format(idr.unique()[k])\n",
        "ds = pd.read_csv(path+fn,delimiter=' ')\n",
        "ds = ds.dropna() #Drop values with NAN values\n",
        "# #Separating data Train and Test, features and labels\n",
        "lbl = ['dx','dy']\n",
        "for x in lbl:\n",
        "  ds.pop(x)\n",
        "Normed_data = norm(ds)\n",
        "\n",
        "#Load model\n",
        "model = keras.models.load_model(path+'model_delta')\n",
        "loss, mae, mse = model.evaluate(normed_test_data,test_labels,verbose=0)\n",
        "print(\"Testing set Mean Abs Error: {:5.2f} m\".format(mae))\n",
        "pred=[]\n",
        "for i in range(len(Normed_data)):\n",
        "    nep = Normed_data.iloc[i].values\n",
        "    nep = nep.reshape(1,9)\n",
        "    prediction = model.predict(nep)\n",
        "    pred.append((prediction[0][0],prediction[0][1]))\n",
        "pred=np.array(pred)\n",
        "####plot results\n",
        "import pyproj\n",
        "import matplotlib.pyplot as plt\n",
        "geodesic = pyproj.Geod(ellps='WGS84')\n",
        "\n",
        "x=df.longitude.iloc[0]\n",
        "y=df.latitude.iloc[0]\n",
        "fcx = geodesic.inv(x, y, x+1, y)\n",
        "fcx = abs(fcx[2])\n",
        "fcy = geodesic.inv(x, y, x, y+1)\n",
        "fcy = abs(fcy[2])\n",
        "pos=[]\n",
        "for i in range(len(pred)-1):\n",
        "  #update position\n",
        "  dx = pred[i,0]\n",
        "  dy = pred[i,1]\n",
        "\n",
        "  x = x + dx/fcx\n",
        "  y = y + dy/fcy\n",
        "  pos.append((x,y))\n",
        "\n",
        "dat = np.array(pos)\n",
        "plt.plot(df.longitude.values,df.latitude.values,color='r',marker='.',label='drifter',alpha=0.6)\n",
        "plt.plot(dat[:,0],dat[:,1],'b+',label='prediction',zorder=10)\n",
        "plt.legend()"
      ]
    },
    {
      "cell_type": "markdown",
      "metadata": {
        "id": "ZRsXHP_aMvct"
      },
      "source": [
        "#Load data to predict for challenge\n",
        "*   Nov24-12pm 1637755200\n",
        "*   Nov26-12pm 1637928000\n",
        "*   Nov28-12pm 1638100800\n",
        "*   Nov30-12pm 1638273600\n",
        "*   Dic02-12pm 1638446400"
      ]
    },
    {
      "cell_type": "code",
      "execution_count": null,
      "metadata": {
        "id": "cZ58gPAvpr_k"
      },
      "outputs": [],
      "source": [
        "import datetime\n",
        "from datetime import timedelta\n",
        "start_time = datetime.datetime(1970,1,1,0,0,0)\n",
        "delta = timedelta(seconds=1637514000+24*3600)\n",
        "to= start_time + delta\n",
        "epoc=1637514000+24*3600\n",
        "print(to,epoc)\n",
        "for i in range(5):\n",
        "  dt = timedelta(seconds=24*2*3600)\n",
        "  epoc = epoc + dt.total_seconds()\n",
        "  to =to + dt\n",
        "  print (to, epoc)"
      ]
    },
    {
      "cell_type": "code",
      "execution_count": null,
      "metadata": {
        "id": "3PxyrWXjMu2l"
      },
      "outputs": [],
      "source": [
        "import datetime\n",
        "from datetime import timedelta\n",
        "fn='/content/drive/Shareddrives/Coastal/FFT challenge/data_22_Nov.csv'\n",
        "path='/content/drive/Shareddrives/Coastal/FFT challenge/data/'\n",
        "d = pd.read_csv(fn)\n",
        "idr = d['spotId']\n",
        "idr = idr.unique() # the identifiers of each drifter\n",
        "start_time = datetime.datetime(1970,1,1,0,0,0)\n",
        "for i in range(len(idr)):\n",
        "  df=d.loc[lambda d: d.spotId==idr[k],:]\n",
        "print(d.iloc[960])\n",
        "dt=timedelta(seconds=d['epoch [s]'].iloc[960])\n",
        "fecha = start_time+dt\n",
        "print(fecha)\n",
        "print(d['epoch [s]'].iloc[960])\n"
      ]
    }
  ],
  "metadata": {
    "colab": {
      "name": "LGN01_predicter.ipynb",
      "provenance": []
    },
    "kernelspec": {
      "display_name": "Python 3",
      "name": "python3"
    },
    "language_info": {
      "name": "python"
    }
  },
  "nbformat": 4,
  "nbformat_minor": 0
}
